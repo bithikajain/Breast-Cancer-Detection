{
 "cells": [
  {
   "cell_type": "code",
   "execution_count": 1,
   "metadata": {
    "ExecuteTime": {
     "end_time": "2020-02-21T10:56:38.089987Z",
     "start_time": "2020-02-21T10:56:37.443330Z"
    }
   },
   "outputs": [],
   "source": [
    "import os, sys\n",
    "import numpy as np\n",
    "import pandas as pd\n",
    "import seaborn as sns\n",
    "import matplotlib.pyplot as plt\n",
    "\n",
    "# Comment this if the data visualisations doesn't work on your side\n",
    "%matplotlib inline\n",
    "\n",
    "plt.style.use('bmh')"
   ]
  },
  {
   "cell_type": "code",
   "execution_count": 44,
   "metadata": {
    "ExecuteTime": {
     "end_time": "2020-02-21T11:15:45.852928Z",
     "start_time": "2020-02-21T11:15:45.845841Z"
    }
   },
   "outputs": [],
   "source": [
    "data_dir = \"../data\""
   ]
  },
  {
   "cell_type": "code",
   "execution_count": 2,
   "metadata": {
    "ExecuteTime": {
     "end_time": "2020-02-21T10:56:38.093802Z",
     "start_time": "2020-02-21T10:56:38.091427Z"
    }
   },
   "outputs": [],
   "source": [
    "data = \"../data/breast-cancer-wisconsin.txt\""
   ]
  },
  {
   "cell_type": "code",
   "execution_count": 3,
   "metadata": {
    "ExecuteTime": {
     "end_time": "2020-02-21T10:56:38.677614Z",
     "start_time": "2020-02-21T10:56:38.641949Z"
    },
    "scrolled": true
   },
   "outputs": [
    {
     "data": {
      "text/html": [
       "<div>\n",
       "<style scoped>\n",
       "    .dataframe tbody tr th:only-of-type {\n",
       "        vertical-align: middle;\n",
       "    }\n",
       "\n",
       "    .dataframe tbody tr th {\n",
       "        vertical-align: top;\n",
       "    }\n",
       "\n",
       "    .dataframe thead th {\n",
       "        text-align: right;\n",
       "    }\n",
       "</style>\n",
       "<table border=\"1\" class=\"dataframe\">\n",
       "  <thead>\n",
       "    <tr style=\"text-align: right;\">\n",
       "      <th></th>\n",
       "      <th>Index</th>\n",
       "      <th>ID</th>\n",
       "      <th>Clump Thickness</th>\n",
       "      <th>Uniformity of Cell Size</th>\n",
       "      <th>Uniformity of Cell Shape</th>\n",
       "      <th>Marginal Adhesion</th>\n",
       "      <th>Single Epithelial Cell Size</th>\n",
       "      <th>Bare Nuclei</th>\n",
       "      <th>Bland Chromatin</th>\n",
       "      <th>Normal Nucleoli</th>\n",
       "      <th>Mitoses</th>\n",
       "      <th>Class</th>\n",
       "    </tr>\n",
       "  </thead>\n",
       "  <tbody>\n",
       "    <tr>\n",
       "      <td>0</td>\n",
       "      <td>0</td>\n",
       "      <td>1241035</td>\n",
       "      <td>7</td>\n",
       "      <td>8</td>\n",
       "      <td>3</td>\n",
       "      <td>7</td>\n",
       "      <td>4</td>\n",
       "      <td>5</td>\n",
       "      <td>7</td>\n",
       "      <td>8</td>\n",
       "      <td>2</td>\n",
       "      <td>4</td>\n",
       "    </tr>\n",
       "    <tr>\n",
       "      <td>1</td>\n",
       "      <td>1</td>\n",
       "      <td>1107684</td>\n",
       "      <td>6</td>\n",
       "      <td>10</td>\n",
       "      <td>5</td>\n",
       "      <td>5</td>\n",
       "      <td>4</td>\n",
       "      <td>10</td>\n",
       "      <td>6</td>\n",
       "      <td>10</td>\n",
       "      <td>1</td>\n",
       "      <td>4</td>\n",
       "    </tr>\n",
       "    <tr>\n",
       "      <td>2</td>\n",
       "      <td>2</td>\n",
       "      <td>691628</td>\n",
       "      <td>8</td>\n",
       "      <td>6</td>\n",
       "      <td>4</td>\n",
       "      <td>10</td>\n",
       "      <td>10</td>\n",
       "      <td>1</td>\n",
       "      <td>3</td>\n",
       "      <td>5</td>\n",
       "      <td>1</td>\n",
       "      <td>4</td>\n",
       "    </tr>\n",
       "    <tr>\n",
       "      <td>3</td>\n",
       "      <td>3</td>\n",
       "      <td>1226612</td>\n",
       "      <td>7</td>\n",
       "      <td>5</td>\n",
       "      <td>6</td>\n",
       "      <td>3</td>\n",
       "      <td>3</td>\n",
       "      <td>8</td>\n",
       "      <td>7</td>\n",
       "      <td>4</td>\n",
       "      <td>1</td>\n",
       "      <td>4</td>\n",
       "    </tr>\n",
       "    <tr>\n",
       "      <td>4</td>\n",
       "      <td>4</td>\n",
       "      <td>1142706</td>\n",
       "      <td>5</td>\n",
       "      <td>10</td>\n",
       "      <td>10</td>\n",
       "      <td>10</td>\n",
       "      <td>6</td>\n",
       "      <td>10</td>\n",
       "      <td>6</td>\n",
       "      <td>5</td>\n",
       "      <td>2</td>\n",
       "      <td>4</td>\n",
       "    </tr>\n",
       "  </tbody>\n",
       "</table>\n",
       "</div>"
      ],
      "text/plain": [
       "   Index       ID  Clump Thickness Uniformity of Cell Size  \\\n",
       "0      0  1241035                7                       8   \n",
       "1      1  1107684                6                      10   \n",
       "2      2   691628                8                       6   \n",
       "3      3  1226612                7                       5   \n",
       "4      4  1142706                5                      10   \n",
       "\n",
       "  Uniformity of Cell Shape Marginal Adhesion Single Epithelial Cell Size  \\\n",
       "0                        3                 7                           4   \n",
       "1                        5                 5                           4   \n",
       "2                        4                10                          10   \n",
       "3                        6                 3                           3   \n",
       "4                       10                10                           6   \n",
       "\n",
       "  Bare Nuclei Bland Chromatin Normal Nucleoli Mitoses Class  \n",
       "0           5               7               8       2     4  \n",
       "1          10               6              10       1     4  \n",
       "2           1               3               5       1     4  \n",
       "3           8               7               4       1     4  \n",
       "4          10               6               5       2     4  "
      ]
     },
     "execution_count": 3,
     "metadata": {},
     "output_type": "execute_result"
    }
   ],
   "source": [
    "df = pd.read_csv(data)\n",
    "df.head()"
   ]
  },
  {
   "cell_type": "code",
   "execution_count": 4,
   "metadata": {
    "ExecuteTime": {
     "end_time": "2020-02-21T10:56:39.324529Z",
     "start_time": "2020-02-21T10:56:39.281845Z"
    }
   },
   "outputs": [
    {
     "name": "stdout",
     "output_type": "stream",
     "text": [
      "<class 'pandas.core.frame.DataFrame'>\n",
      "RangeIndex: 15855 entries, 0 to 15854\n",
      "Data columns (total 12 columns):\n",
      "Index                          15855 non-null int64\n",
      "ID                             15855 non-null int64\n",
      "Clump Thickness                15855 non-null int64\n",
      "Uniformity of Cell Size        15827 non-null object\n",
      "Uniformity of Cell Shape       15827 non-null object\n",
      "Marginal Adhesion              15827 non-null object\n",
      "Single Epithelial Cell Size    15827 non-null object\n",
      "Bare Nuclei                    15827 non-null object\n",
      "Bland Chromatin                15827 non-null object\n",
      "Normal Nucleoli                15827 non-null object\n",
      "Mitoses                        15827 non-null object\n",
      "Class                          15827 non-null object\n",
      "dtypes: int64(3), object(9)\n",
      "memory usage: 1.5+ MB\n"
     ]
    }
   ],
   "source": [
    "df.info()"
   ]
  },
  {
   "cell_type": "code",
   "execution_count": 5,
   "metadata": {
    "ExecuteTime": {
     "end_time": "2020-02-21T10:56:39.800072Z",
     "start_time": "2020-02-21T10:56:39.787085Z"
    }
   },
   "outputs": [
    {
     "name": "stdout",
     "output_type": "stream",
     "text": [
      "Data type of each column of Dataframe :\n",
      "Index                           int64\n",
      "ID                              int64\n",
      "Clump Thickness                 int64\n",
      "Uniformity of Cell Size        object\n",
      "Uniformity of Cell Shape       object\n",
      "Marginal Adhesion              object\n",
      "Single Epithelial Cell Size    object\n",
      "Bare Nuclei                    object\n",
      "Bland Chromatin                object\n",
      "Normal Nucleoli                object\n",
      "Mitoses                        object\n",
      "Class                          object\n",
      "dtype: object\n"
     ]
    }
   ],
   "source": [
    "dataTypeSeries = df.dtypes\n",
    " \n",
    "print('Data type of each column of Dataframe :')\n",
    "print(dataTypeSeries)"
   ]
  },
  {
   "cell_type": "code",
   "execution_count": 6,
   "metadata": {
    "ExecuteTime": {
     "end_time": "2020-02-21T10:56:40.218537Z",
     "start_time": "2020-02-21T10:56:40.209972Z"
    }
   },
   "outputs": [
    {
     "data": {
      "text/plain": [
       "Index                               30\n",
       "ID                             1226612\n",
       "Clump Thickness                      7\n",
       "Uniformity of Cell Size        No idea\n",
       "Uniformity of Cell Shape       No idea\n",
       "Marginal Adhesion              No idea\n",
       "Single Epithelial Cell Size    No idea\n",
       "Bare Nuclei                    No idea\n",
       "Bland Chromatin                No idea\n",
       "Normal Nucleoli                No idea\n",
       "Mitoses                        No idea\n",
       "Class                          No idea\n",
       "Name: 30, dtype: object"
      ]
     },
     "execution_count": 6,
     "metadata": {},
     "output_type": "execute_result"
    }
   ],
   "source": [
    "df.iloc[30]"
   ]
  },
  {
   "cell_type": "code",
   "execution_count": 7,
   "metadata": {
    "ExecuteTime": {
     "end_time": "2020-02-21T10:56:40.745299Z",
     "start_time": "2020-02-21T10:56:40.734706Z"
    }
   },
   "outputs": [
    {
     "data": {
      "text/plain": [
       "Index(['Index', 'ID', 'Clump Thickness', 'Uniformity of Cell Size',\n",
       "       'Uniformity of Cell Shape', 'Marginal Adhesion',\n",
       "       'Single Epithelial Cell Size', 'Bare Nuclei', 'Bland Chromatin',\n",
       "       'Normal Nucleoli', 'Mitoses', 'Class'],\n",
       "      dtype='object')"
      ]
     },
     "execution_count": 7,
     "metadata": {},
     "output_type": "execute_result"
    }
   ],
   "source": [
    "df.columns"
   ]
  },
  {
   "cell_type": "code",
   "execution_count": 8,
   "metadata": {
    "ExecuteTime": {
     "end_time": "2020-02-21T10:56:41.135628Z",
     "start_time": "2020-02-21T10:56:41.132730Z"
    }
   },
   "outputs": [],
   "source": [
    "obj_cols = ['Clump Thickness', 'Uniformity of Cell Size',\n",
    "       'Uniformity of Cell Shape', 'Marginal Adhesion',\n",
    "       'Single Epithelial Cell Size', 'Bare Nuclei', 'Bland Chromatin',\n",
    "       'Normal Nucleoli', 'Mitoses', 'Class']"
   ]
  },
  {
   "cell_type": "markdown",
   "metadata": {},
   "source": [
    "# Converting selected columns to numeric dtypes\n"
   ]
  },
  {
   "cell_type": "code",
   "execution_count": 19,
   "metadata": {
    "ExecuteTime": {
     "end_time": "2020-02-21T10:58:30.739540Z",
     "start_time": "2020-02-21T10:58:30.706945Z"
    }
   },
   "outputs": [],
   "source": [
    "df[obj_cols] = df[obj_cols].apply(pd.to_numeric, errors='coerce', downcast = 'integer')"
   ]
  },
  {
   "cell_type": "code",
   "execution_count": 20,
   "metadata": {
    "ExecuteTime": {
     "end_time": "2020-02-21T10:58:33.535482Z",
     "start_time": "2020-02-21T10:58:33.476688Z"
    }
   },
   "outputs": [
    {
     "data": {
      "text/html": [
       "<div>\n",
       "<style scoped>\n",
       "    .dataframe tbody tr th:only-of-type {\n",
       "        vertical-align: middle;\n",
       "    }\n",
       "\n",
       "    .dataframe tbody tr th {\n",
       "        vertical-align: top;\n",
       "    }\n",
       "\n",
       "    .dataframe thead th {\n",
       "        text-align: right;\n",
       "    }\n",
       "</style>\n",
       "<table border=\"1\" class=\"dataframe\">\n",
       "  <thead>\n",
       "    <tr style=\"text-align: right;\">\n",
       "      <th></th>\n",
       "      <th>Index</th>\n",
       "      <th>ID</th>\n",
       "      <th>Clump Thickness</th>\n",
       "      <th>Uniformity of Cell Size</th>\n",
       "      <th>Uniformity of Cell Shape</th>\n",
       "      <th>Marginal Adhesion</th>\n",
       "      <th>Single Epithelial Cell Size</th>\n",
       "      <th>Bare Nuclei</th>\n",
       "      <th>Bland Chromatin</th>\n",
       "      <th>Normal Nucleoli</th>\n",
       "      <th>Mitoses</th>\n",
       "      <th>Class</th>\n",
       "    </tr>\n",
       "  </thead>\n",
       "  <tbody>\n",
       "    <tr>\n",
       "      <td>count</td>\n",
       "      <td>15855.000000</td>\n",
       "      <td>1.585500e+04</td>\n",
       "      <td>15855.000000</td>\n",
       "      <td>15776.000000</td>\n",
       "      <td>15776.000000</td>\n",
       "      <td>15776.000000</td>\n",
       "      <td>15776.000000</td>\n",
       "      <td>15760.000000</td>\n",
       "      <td>15776.000000</td>\n",
       "      <td>15776.000000</td>\n",
       "      <td>15776.000000</td>\n",
       "      <td>15776.000000</td>\n",
       "    </tr>\n",
       "    <tr>\n",
       "      <td>mean</td>\n",
       "      <td>7927.000000</td>\n",
       "      <td>1.125972e+06</td>\n",
       "      <td>8.263198</td>\n",
       "      <td>7.475849</td>\n",
       "      <td>6.091405</td>\n",
       "      <td>5.489351</td>\n",
       "      <td>4.597807</td>\n",
       "      <td>7.004822</td>\n",
       "      <td>5.019397</td>\n",
       "      <td>5.406440</td>\n",
       "      <td>1.829361</td>\n",
       "      <td>4.291836</td>\n",
       "    </tr>\n",
       "    <tr>\n",
       "      <td>std</td>\n",
       "      <td>4577.088594</td>\n",
       "      <td>9.957879e+05</td>\n",
       "      <td>7.393603</td>\n",
       "      <td>6.800880</td>\n",
       "      <td>5.523121</td>\n",
       "      <td>6.109255</td>\n",
       "      <td>4.832097</td>\n",
       "      <td>7.058168</td>\n",
       "      <td>4.856222</td>\n",
       "      <td>5.874417</td>\n",
       "      <td>2.857843</td>\n",
       "      <td>3.537944</td>\n",
       "    </tr>\n",
       "    <tr>\n",
       "      <td>min</td>\n",
       "      <td>0.000000</td>\n",
       "      <td>6.163400e+04</td>\n",
       "      <td>1.000000</td>\n",
       "      <td>1.000000</td>\n",
       "      <td>1.000000</td>\n",
       "      <td>1.000000</td>\n",
       "      <td>1.000000</td>\n",
       "      <td>1.000000</td>\n",
       "      <td>1.000000</td>\n",
       "      <td>1.000000</td>\n",
       "      <td>1.000000</td>\n",
       "      <td>2.000000</td>\n",
       "    </tr>\n",
       "    <tr>\n",
       "      <td>25%</td>\n",
       "      <td>3963.500000</td>\n",
       "      <td>1.076352e+06</td>\n",
       "      <td>7.000000</td>\n",
       "      <td>5.000000</td>\n",
       "      <td>4.000000</td>\n",
       "      <td>3.000000</td>\n",
       "      <td>3.000000</td>\n",
       "      <td>3.000000</td>\n",
       "      <td>3.000000</td>\n",
       "      <td>3.000000</td>\n",
       "      <td>1.000000</td>\n",
       "      <td>4.000000</td>\n",
       "    </tr>\n",
       "    <tr>\n",
       "      <td>50%</td>\n",
       "      <td>7927.000000</td>\n",
       "      <td>1.111249e+06</td>\n",
       "      <td>8.000000</td>\n",
       "      <td>6.000000</td>\n",
       "      <td>5.000000</td>\n",
       "      <td>4.000000</td>\n",
       "      <td>4.000000</td>\n",
       "      <td>8.000000</td>\n",
       "      <td>4.000000</td>\n",
       "      <td>5.000000</td>\n",
       "      <td>1.000000</td>\n",
       "      <td>4.000000</td>\n",
       "    </tr>\n",
       "    <tr>\n",
       "      <td>75%</td>\n",
       "      <td>11890.500000</td>\n",
       "      <td>1.198641e+06</td>\n",
       "      <td>10.000000</td>\n",
       "      <td>10.000000</td>\n",
       "      <td>7.000000</td>\n",
       "      <td>7.000000</td>\n",
       "      <td>4.000000</td>\n",
       "      <td>10.000000</td>\n",
       "      <td>7.000000</td>\n",
       "      <td>8.000000</td>\n",
       "      <td>2.000000</td>\n",
       "      <td>4.000000</td>\n",
       "    </tr>\n",
       "    <tr>\n",
       "      <td>max</td>\n",
       "      <td>15854.000000</td>\n",
       "      <td>1.345435e+07</td>\n",
       "      <td>100.000000</td>\n",
       "      <td>100.000000</td>\n",
       "      <td>100.000000</td>\n",
       "      <td>100.000000</td>\n",
       "      <td>100.000000</td>\n",
       "      <td>100.000000</td>\n",
       "      <td>70.000000</td>\n",
       "      <td>100.000000</td>\n",
       "      <td>70.000000</td>\n",
       "      <td>40.000000</td>\n",
       "    </tr>\n",
       "  </tbody>\n",
       "</table>\n",
       "</div>"
      ],
      "text/plain": [
       "              Index            ID  Clump Thickness  Uniformity of Cell Size  \\\n",
       "count  15855.000000  1.585500e+04     15855.000000             15776.000000   \n",
       "mean    7927.000000  1.125972e+06         8.263198                 7.475849   \n",
       "std     4577.088594  9.957879e+05         7.393603                 6.800880   \n",
       "min        0.000000  6.163400e+04         1.000000                 1.000000   \n",
       "25%     3963.500000  1.076352e+06         7.000000                 5.000000   \n",
       "50%     7927.000000  1.111249e+06         8.000000                 6.000000   \n",
       "75%    11890.500000  1.198641e+06        10.000000                10.000000   \n",
       "max    15854.000000  1.345435e+07       100.000000               100.000000   \n",
       "\n",
       "       Uniformity of Cell Shape  Marginal Adhesion  \\\n",
       "count              15776.000000       15776.000000   \n",
       "mean                   6.091405           5.489351   \n",
       "std                    5.523121           6.109255   \n",
       "min                    1.000000           1.000000   \n",
       "25%                    4.000000           3.000000   \n",
       "50%                    5.000000           4.000000   \n",
       "75%                    7.000000           7.000000   \n",
       "max                  100.000000         100.000000   \n",
       "\n",
       "       Single Epithelial Cell Size   Bare Nuclei  Bland Chromatin  \\\n",
       "count                 15776.000000  15760.000000     15776.000000   \n",
       "mean                      4.597807      7.004822         5.019397   \n",
       "std                       4.832097      7.058168         4.856222   \n",
       "min                       1.000000      1.000000         1.000000   \n",
       "25%                       3.000000      3.000000         3.000000   \n",
       "50%                       4.000000      8.000000         4.000000   \n",
       "75%                       4.000000     10.000000         7.000000   \n",
       "max                     100.000000    100.000000        70.000000   \n",
       "\n",
       "       Normal Nucleoli       Mitoses         Class  \n",
       "count     15776.000000  15776.000000  15776.000000  \n",
       "mean          5.406440      1.829361      4.291836  \n",
       "std           5.874417      2.857843      3.537944  \n",
       "min           1.000000      1.000000      2.000000  \n",
       "25%           3.000000      1.000000      4.000000  \n",
       "50%           5.000000      1.000000      4.000000  \n",
       "75%           8.000000      2.000000      4.000000  \n",
       "max         100.000000     70.000000     40.000000  "
      ]
     },
     "execution_count": 20,
     "metadata": {},
     "output_type": "execute_result"
    }
   ],
   "source": [
    "df.describe()"
   ]
  },
  {
   "cell_type": "code",
   "execution_count": 21,
   "metadata": {
    "ExecuteTime": {
     "end_time": "2020-02-21T10:58:36.108779Z",
     "start_time": "2020-02-21T10:58:36.102059Z"
    }
   },
   "outputs": [
    {
     "data": {
      "text/plain": [
       "Index                               30.0\n",
       "ID                             1226612.0\n",
       "Clump Thickness                      7.0\n",
       "Uniformity of Cell Size              NaN\n",
       "Uniformity of Cell Shape             NaN\n",
       "Marginal Adhesion                    NaN\n",
       "Single Epithelial Cell Size          NaN\n",
       "Bare Nuclei                          NaN\n",
       "Bland Chromatin                      NaN\n",
       "Normal Nucleoli                      NaN\n",
       "Mitoses                              NaN\n",
       "Class                                NaN\n",
       "Name: 30, dtype: float64"
      ]
     },
     "execution_count": 21,
     "metadata": {},
     "output_type": "execute_result"
    }
   ],
   "source": [
    "df.iloc[30]"
   ]
  },
  {
   "cell_type": "code",
   "execution_count": 22,
   "metadata": {
    "ExecuteTime": {
     "end_time": "2020-02-21T10:58:58.681566Z",
     "start_time": "2020-02-21T10:58:58.668064Z"
    }
   },
   "outputs": [
    {
     "name": "stdout",
     "output_type": "stream",
     "text": [
      "<class 'pandas.core.frame.DataFrame'>\n",
      "RangeIndex: 15855 entries, 0 to 15854\n",
      "Data columns (total 12 columns):\n",
      "Index                          15855 non-null int64\n",
      "ID                             15855 non-null int64\n",
      "Clump Thickness                15855 non-null int8\n",
      "Uniformity of Cell Size        15776 non-null float64\n",
      "Uniformity of Cell Shape       15776 non-null float64\n",
      "Marginal Adhesion              15776 non-null float64\n",
      "Single Epithelial Cell Size    15776 non-null float64\n",
      "Bare Nuclei                    15760 non-null float64\n",
      "Bland Chromatin                15776 non-null float64\n",
      "Normal Nucleoli                15776 non-null float64\n",
      "Mitoses                        15776 non-null float64\n",
      "Class                          15776 non-null float64\n",
      "dtypes: float64(9), int64(2), int8(1)\n",
      "memory usage: 1.3 MB\n"
     ]
    }
   ],
   "source": [
    "df.info()"
   ]
  },
  {
   "cell_type": "markdown",
   "metadata": {},
   "source": [
    "There is missing data in all features. Lets drop those columns"
   ]
  },
  {
   "cell_type": "code",
   "execution_count": 24,
   "metadata": {
    "ExecuteTime": {
     "end_time": "2020-02-21T10:59:33.577080Z",
     "start_time": "2020-02-21T10:59:33.559211Z"
    }
   },
   "outputs": [],
   "source": [
    "df = df.dropna()"
   ]
  },
  {
   "cell_type": "code",
   "execution_count": 25,
   "metadata": {
    "ExecuteTime": {
     "end_time": "2020-02-21T10:59:35.334739Z",
     "start_time": "2020-02-21T10:59:35.318351Z"
    }
   },
   "outputs": [],
   "source": [
    "df_new = df.astype(int)"
   ]
  },
  {
   "cell_type": "code",
   "execution_count": 26,
   "metadata": {
    "ExecuteTime": {
     "end_time": "2020-02-21T10:59:38.178674Z",
     "start_time": "2020-02-21T10:59:38.110447Z"
    }
   },
   "outputs": [
    {
     "data": {
      "text/html": [
       "<div>\n",
       "<style scoped>\n",
       "    .dataframe tbody tr th:only-of-type {\n",
       "        vertical-align: middle;\n",
       "    }\n",
       "\n",
       "    .dataframe tbody tr th {\n",
       "        vertical-align: top;\n",
       "    }\n",
       "\n",
       "    .dataframe thead th {\n",
       "        text-align: right;\n",
       "    }\n",
       "</style>\n",
       "<table border=\"1\" class=\"dataframe\">\n",
       "  <thead>\n",
       "    <tr style=\"text-align: right;\">\n",
       "      <th></th>\n",
       "      <th>Index</th>\n",
       "      <th>ID</th>\n",
       "      <th>Clump Thickness</th>\n",
       "      <th>Uniformity of Cell Size</th>\n",
       "      <th>Uniformity of Cell Shape</th>\n",
       "      <th>Marginal Adhesion</th>\n",
       "      <th>Single Epithelial Cell Size</th>\n",
       "      <th>Bare Nuclei</th>\n",
       "      <th>Bland Chromatin</th>\n",
       "      <th>Normal Nucleoli</th>\n",
       "      <th>Mitoses</th>\n",
       "      <th>Class</th>\n",
       "    </tr>\n",
       "  </thead>\n",
       "  <tbody>\n",
       "    <tr>\n",
       "      <td>count</td>\n",
       "      <td>15760.000000</td>\n",
       "      <td>1.576000e+04</td>\n",
       "      <td>15760.000000</td>\n",
       "      <td>15760.000000</td>\n",
       "      <td>15760.00000</td>\n",
       "      <td>15760.000000</td>\n",
       "      <td>15760.000000</td>\n",
       "      <td>15760.000000</td>\n",
       "      <td>15760.000000</td>\n",
       "      <td>15760.000000</td>\n",
       "      <td>15760.000000</td>\n",
       "      <td>15760.000000</td>\n",
       "    </tr>\n",
       "    <tr>\n",
       "      <td>mean</td>\n",
       "      <td>7926.936358</td>\n",
       "      <td>1.126045e+06</td>\n",
       "      <td>8.262944</td>\n",
       "      <td>7.480964</td>\n",
       "      <td>6.09467</td>\n",
       "      <td>5.493084</td>\n",
       "      <td>4.600000</td>\n",
       "      <td>7.004822</td>\n",
       "      <td>5.021320</td>\n",
       "      <td>5.409137</td>\n",
       "      <td>1.830203</td>\n",
       "      <td>4.293909</td>\n",
       "    </tr>\n",
       "    <tr>\n",
       "      <td>std</td>\n",
       "      <td>4575.337779</td>\n",
       "      <td>9.953466e+05</td>\n",
       "      <td>7.376293</td>\n",
       "      <td>6.802044</td>\n",
       "      <td>5.52456</td>\n",
       "      <td>6.110824</td>\n",
       "      <td>4.833784</td>\n",
       "      <td>7.058168</td>\n",
       "      <td>4.857947</td>\n",
       "      <td>5.875962</td>\n",
       "      <td>2.859171</td>\n",
       "      <td>3.539078</td>\n",
       "    </tr>\n",
       "    <tr>\n",
       "      <td>min</td>\n",
       "      <td>0.000000</td>\n",
       "      <td>6.337500e+04</td>\n",
       "      <td>1.000000</td>\n",
       "      <td>1.000000</td>\n",
       "      <td>1.00000</td>\n",
       "      <td>1.000000</td>\n",
       "      <td>1.000000</td>\n",
       "      <td>1.000000</td>\n",
       "      <td>1.000000</td>\n",
       "      <td>1.000000</td>\n",
       "      <td>1.000000</td>\n",
       "      <td>2.000000</td>\n",
       "    </tr>\n",
       "    <tr>\n",
       "      <td>25%</td>\n",
       "      <td>3965.750000</td>\n",
       "      <td>1.076352e+06</td>\n",
       "      <td>7.000000</td>\n",
       "      <td>5.000000</td>\n",
       "      <td>4.00000</td>\n",
       "      <td>3.000000</td>\n",
       "      <td>3.000000</td>\n",
       "      <td>3.000000</td>\n",
       "      <td>3.000000</td>\n",
       "      <td>3.000000</td>\n",
       "      <td>1.000000</td>\n",
       "      <td>4.000000</td>\n",
       "    </tr>\n",
       "    <tr>\n",
       "      <td>50%</td>\n",
       "      <td>7927.500000</td>\n",
       "      <td>1.111249e+06</td>\n",
       "      <td>8.000000</td>\n",
       "      <td>6.000000</td>\n",
       "      <td>5.00000</td>\n",
       "      <td>4.000000</td>\n",
       "      <td>4.000000</td>\n",
       "      <td>8.000000</td>\n",
       "      <td>4.000000</td>\n",
       "      <td>5.000000</td>\n",
       "      <td>1.000000</td>\n",
       "      <td>4.000000</td>\n",
       "    </tr>\n",
       "    <tr>\n",
       "      <td>75%</td>\n",
       "      <td>11889.250000</td>\n",
       "      <td>1.198641e+06</td>\n",
       "      <td>10.000000</td>\n",
       "      <td>10.000000</td>\n",
       "      <td>7.00000</td>\n",
       "      <td>7.000000</td>\n",
       "      <td>4.000000</td>\n",
       "      <td>10.000000</td>\n",
       "      <td>7.000000</td>\n",
       "      <td>8.000000</td>\n",
       "      <td>2.000000</td>\n",
       "      <td>4.000000</td>\n",
       "    </tr>\n",
       "    <tr>\n",
       "      <td>max</td>\n",
       "      <td>15854.000000</td>\n",
       "      <td>1.345435e+07</td>\n",
       "      <td>100.000000</td>\n",
       "      <td>100.000000</td>\n",
       "      <td>100.00000</td>\n",
       "      <td>100.000000</td>\n",
       "      <td>100.000000</td>\n",
       "      <td>100.000000</td>\n",
       "      <td>70.000000</td>\n",
       "      <td>100.000000</td>\n",
       "      <td>70.000000</td>\n",
       "      <td>40.000000</td>\n",
       "    </tr>\n",
       "  </tbody>\n",
       "</table>\n",
       "</div>"
      ],
      "text/plain": [
       "              Index            ID  Clump Thickness  Uniformity of Cell Size  \\\n",
       "count  15760.000000  1.576000e+04     15760.000000             15760.000000   \n",
       "mean    7926.936358  1.126045e+06         8.262944                 7.480964   \n",
       "std     4575.337779  9.953466e+05         7.376293                 6.802044   \n",
       "min        0.000000  6.337500e+04         1.000000                 1.000000   \n",
       "25%     3965.750000  1.076352e+06         7.000000                 5.000000   \n",
       "50%     7927.500000  1.111249e+06         8.000000                 6.000000   \n",
       "75%    11889.250000  1.198641e+06        10.000000                10.000000   \n",
       "max    15854.000000  1.345435e+07       100.000000               100.000000   \n",
       "\n",
       "       Uniformity of Cell Shape  Marginal Adhesion  \\\n",
       "count               15760.00000       15760.000000   \n",
       "mean                    6.09467           5.493084   \n",
       "std                     5.52456           6.110824   \n",
       "min                     1.00000           1.000000   \n",
       "25%                     4.00000           3.000000   \n",
       "50%                     5.00000           4.000000   \n",
       "75%                     7.00000           7.000000   \n",
       "max                   100.00000         100.000000   \n",
       "\n",
       "       Single Epithelial Cell Size   Bare Nuclei  Bland Chromatin  \\\n",
       "count                 15760.000000  15760.000000     15760.000000   \n",
       "mean                      4.600000      7.004822         5.021320   \n",
       "std                       4.833784      7.058168         4.857947   \n",
       "min                       1.000000      1.000000         1.000000   \n",
       "25%                       3.000000      3.000000         3.000000   \n",
       "50%                       4.000000      8.000000         4.000000   \n",
       "75%                       4.000000     10.000000         7.000000   \n",
       "max                     100.000000    100.000000        70.000000   \n",
       "\n",
       "       Normal Nucleoli       Mitoses         Class  \n",
       "count     15760.000000  15760.000000  15760.000000  \n",
       "mean          5.409137      1.830203      4.293909  \n",
       "std           5.875962      2.859171      3.539078  \n",
       "min           1.000000      1.000000      2.000000  \n",
       "25%           3.000000      1.000000      4.000000  \n",
       "50%           5.000000      1.000000      4.000000  \n",
       "75%           8.000000      2.000000      4.000000  \n",
       "max         100.000000     70.000000     40.000000  "
      ]
     },
     "execution_count": 26,
     "metadata": {},
     "output_type": "execute_result"
    }
   ],
   "source": [
    "df_new.describe()"
   ]
  },
  {
   "cell_type": "code",
   "execution_count": 27,
   "metadata": {
    "ExecuteTime": {
     "end_time": "2020-02-21T10:59:46.244803Z",
     "start_time": "2020-02-21T10:59:46.227876Z"
    }
   },
   "outputs": [
    {
     "name": "stdout",
     "output_type": "stream",
     "text": [
      "<class 'pandas.core.frame.DataFrame'>\n",
      "Int64Index: 15760 entries, 0 to 15854\n",
      "Data columns (total 12 columns):\n",
      "Index                          15760 non-null int64\n",
      "ID                             15760 non-null int64\n",
      "Clump Thickness                15760 non-null int64\n",
      "Uniformity of Cell Size        15760 non-null int64\n",
      "Uniformity of Cell Shape       15760 non-null int64\n",
      "Marginal Adhesion              15760 non-null int64\n",
      "Single Epithelial Cell Size    15760 non-null int64\n",
      "Bare Nuclei                    15760 non-null int64\n",
      "Bland Chromatin                15760 non-null int64\n",
      "Normal Nucleoli                15760 non-null int64\n",
      "Mitoses                        15760 non-null int64\n",
      "Class                          15760 non-null int64\n",
      "dtypes: int64(12)\n",
      "memory usage: 1.6 MB\n"
     ]
    }
   ],
   "source": [
    "df_new.info()"
   ]
  },
  {
   "cell_type": "code",
   "execution_count": 28,
   "metadata": {
    "ExecuteTime": {
     "end_time": "2020-02-21T10:59:48.690860Z",
     "start_time": "2020-02-21T10:59:48.676974Z"
    }
   },
   "outputs": [
    {
     "data": {
      "text/plain": [
       "Index(['Index', 'ID', 'Clump Thickness', 'Uniformity of Cell Size',\n",
       "       'Uniformity of Cell Shape', 'Marginal Adhesion',\n",
       "       'Single Epithelial Cell Size', 'Bare Nuclei', 'Bland Chromatin',\n",
       "       'Normal Nucleoli', 'Mitoses', 'Class'],\n",
       "      dtype='object')"
      ]
     },
     "execution_count": 28,
     "metadata": {},
     "output_type": "execute_result"
    }
   ],
   "source": [
    "df_new.columns"
   ]
  },
  {
   "cell_type": "code",
   "execution_count": 29,
   "metadata": {
    "ExecuteTime": {
     "end_time": "2020-02-21T10:59:54.798327Z",
     "start_time": "2020-02-21T10:59:54.774877Z"
    },
    "scrolled": true
   },
   "outputs": [
    {
     "name": "stdout",
     "output_type": "stream",
     "text": [
      "Index\n",
      "[    0     1     2 ... 15852 15853 15854]\n",
      "ID\n",
      "[ 1241035  1107684   691628  1226612  1142706   601265   378275  1169049\n",
      "  1111249  1076352  1112209  1110524  1326892  1106829  1198641  1200892\n",
      "  1270479  1071084  1113483  1236043  1072179  1197979 12266120   333093\n",
      "  1181356  1321942 11122090 11690490  1173509   521441  1293439   798429\n",
      " 11986410   608157  1277018  1348851  1238410  1259008  1206314  1132347\n",
      "  1192325  1365075   734111  1059552  1190394  1100524  1187805  1147699\n",
      "   832226   640712   274137   390840  1170419  1177027   603148  1318671\n",
      "  1313982  1255384  1026122  1016634  1224329   809912  1266154   756136\n",
      "  1277792  1196295   508234  1257200  1197440  1289391   814911  1178580\n",
      "  1120559 12410350  1180523  1198128  6012650  1219859  1156272   431495\n",
      "  1103722  1241559  1204242  1190546  1217051  1212232  1240603   877943\n",
      "  1067444   145447   897471  1116998   188336  1075123  1304595  1205138\n",
      "  1328755  1214092  1268952  1170945  1320304  1352848  1227210  1174841\n",
      "  1328331   555977  1017122  1183516   721482  1182404   867392  1216694\n",
      "   827627   486283  1091262  1200847 12008920  1261751  1136142  1311875\n",
      "   855524 11112490  1173347   792744   709287 11427060  1268766  1115282\n",
      "  1033078   826923 10763520  1073960 12124220  1239232 11105240  1145420\n",
      "   690557  1350423  1155546   183913  1287775  1166654 11076840   456282\n",
      "  1299596  1216947  1253917  1334667 13454352  1296572  1228311  1371026\n",
      "  6916280  1181567  1189286  1227244   688033  1049815  1200772 12048980\n",
      "  1239420   529329  1217264  1290203   763235  1320077  1333877   897172\n",
      "   654546   646904   837082   566509  3782750  1238186   493452  1276091\n",
      "  1133136  1230994  1201834   640744  1196263  1041801  1115293   764974\n",
      "   486662   659642  1321931   718641  1126417  1201870   693702  1174057\n",
      "  1147748  1176406  1131294  1321321   869828  1333104   428598   685977\n",
      "   695091  1257608  1269574  1214966  1345452  1295508  1143978  1253505\n",
      "  1323477  1084139  1330439  1173235  1213375   677910  1217952  1286943\n",
      "  1173681   837480  1083817  1236837   704097  1174428  1155967  1193091\n",
      "   636130  1232225  1170420  1295529  1297522  1294562   342245  1115762\n",
      "  1241679  1002025   636437   527363  1135090  1238777  1299924  1223543\n",
      "  1133041  1156017  1368267  1168359  1102573  1147044  1124651   841769\n",
      "  1116132  1330361  1222047  1201936  1105524  1354840  1347943  1165790\n",
      "  1171845  1187457   836433  1287282   560680  1343374  1213383  1119189\n",
      "  1015425  1166630  1167439  1298484  1022257   859164  1158247  1238633\n",
      "  1343068  1108449   749653   822829  1268804  1212251  1306339  1295186\n",
      "   606722  1002945   733823  1221863  1167471  1168736  1081791  1288608\n",
      "   896404   769612  1355260   873549   780555   466906   255644  1196475\n",
      "  1031608  1226012   353098  1206089  1172152  1165926   558538  1140597\n",
      "  1218982  1151734   846832   411453  1228152  1071760  1202253  1257470\n",
      "   352431  1188472  1183240  1218860  1056784  1197527  1218105  1184241\n",
      "  1253955  1183911  1268275  1336798  1240337   877291  1260659  1210963\n",
      "  1211202  1079304  1152331  1080233   859350   810104   434518  1199731\n",
      "  1277268  1168278    95719  1225799  1266124   369565  1344121   695219\n",
      "   488173  1339781  1325159   832567   653777  1211265   831268   797327\n",
      "   654244  1199983  6721130  1219406  1133991  1118039   428903  1184184\n",
      "   385103  1223306  1193210  1223793  1065726  1113061  1041043  1315807\n",
      "   561477   714039  1160476  1018099  1369821  1174131  1301945  1177512\n",
      "  1017023  1306282  1324572  1285722  1197993  1125035  1299161  1303489\n",
      "  1074610  1061990  1050670 11068290   534555  1121732  1315506  1299994\n",
      "   635844  1297327  1043068   666090  1243256  1313325   888523  1365328\n",
      "  1207986  1311033  1334071  1116715  1047630  1280258  1246562  1184586\n",
      "  1223426  1272039  1202125  1117152  1148873  1353092   412300   684955\n",
      "  1311108   314428  1149548   657753  1066979  1238021  1196915  1294413\n",
      "  1302428  1277145  1214556  1218741  1206841  1116116  1238915  1171710\n",
      "  1173216  1180194  1056171  1179818  1318169  1224565   566346  1223967\n",
      "   803531  1257648  1186936  1227081  1293966  1181685  1156948  1222936\n",
      "  1113906  1131411   492561  1223282   785208   303213  1325309   824249\n",
      "  1334015   191250   527337  1265899  1320141   636375  1208301   144888\n",
      "  1277629  1049837   242970  1217717  1108370  1333063  1158405  1175937\n",
      "  1296593  1185609  1114570  1183596  1350319  1239347  1165297  1099510\n",
      "  1106095  1044572   776715  1321264   324427  1173514   846423   785615\n",
      "   324382  1073836  1164066   736150   760001  1321348  1319609  1190485\n",
      "  1345593  1296263  1220330   888820    76389  1171578  1344449   730881\n",
      "    63375  1116192  1066373  1058849  1331405   183936  1324681   474162\n",
      "   743348  1257938  8325670  1212422  1105257  1298416   616240  1157734\n",
      "   814265 12760910 12758070  1121919  1200952  1197270   167528  1148278\n",
      "  1287971  1070935  1333495   733639   667204  1182410  1180831  1219525\n",
      "  1070522  1294261   787451   142932  1113038  1285531  1054593  1239967\n",
      "  1002504  1350568  1036172  1110102   871549  1189266  1231706  1204558\n",
      "  1211594  1096352  1213784   452264  1183983  1171795  1230175  1158157\n",
      "  1043999   706426   830690  1272166  1229929   536708  1205579  1268313\n",
      "  1084584  1193544   666942  1197080  1331412  1203096  1177399  1347749\n",
      "  1258556  1235807  1368273  1110503   807657  1018561  1227481  1048672\n",
      "   805448   850831  1213273  1238948   740492  1176881  1298360  1231853\n",
      "  1185610   535331  1223003  1080185   857774  1334659  1202812  1123061\n",
      "   866325  1206695   673637   320675  1371920  1103608   557583   878358\n",
      "   760239  1054590  1035283  1190386   476903 12270810  1174009  1222464\n",
      "   625201  1267898   770066  8233704  1050718  1225382  1352663   672113\n",
      "   888169   543558  1257815  1275807   263538  1231387  1254538  1313658\n",
      "   806423  1368882  1199219  1234554  1230688  1257366  1176187  1237674\n",
      "   128059  1042252  1204898  1137156  1242364   752904  1296025   160296\n",
      "  1016277   492268]\n",
      "Clump Thickness\n",
      "[  7   6   8   5  10   3   4  70   1  80 100   2   9  50  30  40  60]\n",
      "Uniformity of Cell Size\n",
      "[  8  10   6   5   4   9   3   1   2   7  50 100  30  80  40  60  90  20]\n",
      "Uniformity of Cell Shape\n",
      "[  3   5   4   6  10   7   1   2  60 100  40   9   8  30  50  70]\n",
      "Marginal Adhesion\n",
      "[  7   5  10   3   6   4   1   2  30  40   8  70  60 100  50   9  20]\n",
      "Single Epithelial Cell Size\n",
      "[  4  10   3   6   2   8  30   5   1  40  20   7  60  80 100   9]\n",
      "Bare Nuclei\n",
      "[  5  10   1   8   2   3   6  80  60  30 100   9  50   7   4  20]\n",
      "Bland Chromatin\n",
      "[ 7  6  3  2  4  1  5 70 30 40 10  8 20  9 60 50]\n",
      "Normal Nucleoli\n",
      "[  8  10   5   4   3   7   2   6   9   1  40  90  20  30  80  60  50 100\n",
      "  70]\n",
      "Mitoses\n",
      "[ 2  1  7  3 10 70  8 20  6  4  5]\n",
      "Class\n",
      "[ 4  2 40 20]\n"
     ]
    }
   ],
   "source": [
    "for col in list(df_new):\n",
    "    print(col)\n",
    "    print(df_new[col].unique())"
   ]
  },
  {
   "cell_type": "markdown",
   "metadata": {
    "ExecuteTime": {
     "end_time": "2020-02-21T11:12:27.512459Z",
     "start_time": "2020-02-21T11:12:27.504696Z"
    }
   },
   "source": [
    "# Fixing incorrectly entered values"
   ]
  },
  {
   "cell_type": "code",
   "execution_count": 30,
   "metadata": {
    "ExecuteTime": {
     "end_time": "2020-02-21T10:59:57.553901Z",
     "start_time": "2020-02-21T10:59:57.471757Z"
    }
   },
   "outputs": [],
   "source": [
    "\n",
    "for col in df_new.drop([\"Index\",\"ID\"],1):\n",
    "    df_new[col] = df_new[col].apply(lambda x: x if x <= 10 else x/10)"
   ]
  },
  {
   "cell_type": "code",
   "execution_count": 31,
   "metadata": {
    "ExecuteTime": {
     "end_time": "2020-02-21T11:00:04.776201Z",
     "start_time": "2020-02-21T11:00:04.747504Z"
    }
   },
   "outputs": [
    {
     "name": "stdout",
     "output_type": "stream",
     "text": [
      "Index\n",
      "[    0     1     2 ... 15852 15853 15854]\n",
      "ID\n",
      "[ 1241035  1107684   691628  1226612  1142706   601265   378275  1169049\n",
      "  1111249  1076352  1112209  1110524  1326892  1106829  1198641  1200892\n",
      "  1270479  1071084  1113483  1236043  1072179  1197979 12266120   333093\n",
      "  1181356  1321942 11122090 11690490  1173509   521441  1293439   798429\n",
      " 11986410   608157  1277018  1348851  1238410  1259008  1206314  1132347\n",
      "  1192325  1365075   734111  1059552  1190394  1100524  1187805  1147699\n",
      "   832226   640712   274137   390840  1170419  1177027   603148  1318671\n",
      "  1313982  1255384  1026122  1016634  1224329   809912  1266154   756136\n",
      "  1277792  1196295   508234  1257200  1197440  1289391   814911  1178580\n",
      "  1120559 12410350  1180523  1198128  6012650  1219859  1156272   431495\n",
      "  1103722  1241559  1204242  1190546  1217051  1212232  1240603   877943\n",
      "  1067444   145447   897471  1116998   188336  1075123  1304595  1205138\n",
      "  1328755  1214092  1268952  1170945  1320304  1352848  1227210  1174841\n",
      "  1328331   555977  1017122  1183516   721482  1182404   867392  1216694\n",
      "   827627   486283  1091262  1200847 12008920  1261751  1136142  1311875\n",
      "   855524 11112490  1173347   792744   709287 11427060  1268766  1115282\n",
      "  1033078   826923 10763520  1073960 12124220  1239232 11105240  1145420\n",
      "   690557  1350423  1155546   183913  1287775  1166654 11076840   456282\n",
      "  1299596  1216947  1253917  1334667 13454352  1296572  1228311  1371026\n",
      "  6916280  1181567  1189286  1227244   688033  1049815  1200772 12048980\n",
      "  1239420   529329  1217264  1290203   763235  1320077  1333877   897172\n",
      "   654546   646904   837082   566509  3782750  1238186   493452  1276091\n",
      "  1133136  1230994  1201834   640744  1196263  1041801  1115293   764974\n",
      "   486662   659642  1321931   718641  1126417  1201870   693702  1174057\n",
      "  1147748  1176406  1131294  1321321   869828  1333104   428598   685977\n",
      "   695091  1257608  1269574  1214966  1345452  1295508  1143978  1253505\n",
      "  1323477  1084139  1330439  1173235  1213375   677910  1217952  1286943\n",
      "  1173681   837480  1083817  1236837   704097  1174428  1155967  1193091\n",
      "   636130  1232225  1170420  1295529  1297522  1294562   342245  1115762\n",
      "  1241679  1002025   636437   527363  1135090  1238777  1299924  1223543\n",
      "  1133041  1156017  1368267  1168359  1102573  1147044  1124651   841769\n",
      "  1116132  1330361  1222047  1201936  1105524  1354840  1347943  1165790\n",
      "  1171845  1187457   836433  1287282   560680  1343374  1213383  1119189\n",
      "  1015425  1166630  1167439  1298484  1022257   859164  1158247  1238633\n",
      "  1343068  1108449   749653   822829  1268804  1212251  1306339  1295186\n",
      "   606722  1002945   733823  1221863  1167471  1168736  1081791  1288608\n",
      "   896404   769612  1355260   873549   780555   466906   255644  1196475\n",
      "  1031608  1226012   353098  1206089  1172152  1165926   558538  1140597\n",
      "  1218982  1151734   846832   411453  1228152  1071760  1202253  1257470\n",
      "   352431  1188472  1183240  1218860  1056784  1197527  1218105  1184241\n",
      "  1253955  1183911  1268275  1336798  1240337   877291  1260659  1210963\n",
      "  1211202  1079304  1152331  1080233   859350   810104   434518  1199731\n",
      "  1277268  1168278    95719  1225799  1266124   369565  1344121   695219\n",
      "   488173  1339781  1325159   832567   653777  1211265   831268   797327\n",
      "   654244  1199983  6721130  1219406  1133991  1118039   428903  1184184\n",
      "   385103  1223306  1193210  1223793  1065726  1113061  1041043  1315807\n",
      "   561477   714039  1160476  1018099  1369821  1174131  1301945  1177512\n",
      "  1017023  1306282  1324572  1285722  1197993  1125035  1299161  1303489\n",
      "  1074610  1061990  1050670 11068290   534555  1121732  1315506  1299994\n",
      "   635844  1297327  1043068   666090  1243256  1313325   888523  1365328\n",
      "  1207986  1311033  1334071  1116715  1047630  1280258  1246562  1184586\n",
      "  1223426  1272039  1202125  1117152  1148873  1353092   412300   684955\n",
      "  1311108   314428  1149548   657753  1066979  1238021  1196915  1294413\n",
      "  1302428  1277145  1214556  1218741  1206841  1116116  1238915  1171710\n",
      "  1173216  1180194  1056171  1179818  1318169  1224565   566346  1223967\n",
      "   803531  1257648  1186936  1227081  1293966  1181685  1156948  1222936\n",
      "  1113906  1131411   492561  1223282   785208   303213  1325309   824249\n",
      "  1334015   191250   527337  1265899  1320141   636375  1208301   144888\n",
      "  1277629  1049837   242970  1217717  1108370  1333063  1158405  1175937\n",
      "  1296593  1185609  1114570  1183596  1350319  1239347  1165297  1099510\n",
      "  1106095  1044572   776715  1321264   324427  1173514   846423   785615\n",
      "   324382  1073836  1164066   736150   760001  1321348  1319609  1190485\n",
      "  1345593  1296263  1220330   888820    76389  1171578  1344449   730881\n",
      "    63375  1116192  1066373  1058849  1331405   183936  1324681   474162\n",
      "   743348  1257938  8325670  1212422  1105257  1298416   616240  1157734\n",
      "   814265 12760910 12758070  1121919  1200952  1197270   167528  1148278\n",
      "  1287971  1070935  1333495   733639   667204  1182410  1180831  1219525\n",
      "  1070522  1294261   787451   142932  1113038  1285531  1054593  1239967\n",
      "  1002504  1350568  1036172  1110102   871549  1189266  1231706  1204558\n",
      "  1211594  1096352  1213784   452264  1183983  1171795  1230175  1158157\n",
      "  1043999   706426   830690  1272166  1229929   536708  1205579  1268313\n",
      "  1084584  1193544   666942  1197080  1331412  1203096  1177399  1347749\n",
      "  1258556  1235807  1368273  1110503   807657  1018561  1227481  1048672\n",
      "   805448   850831  1213273  1238948   740492  1176881  1298360  1231853\n",
      "  1185610   535331  1223003  1080185   857774  1334659  1202812  1123061\n",
      "   866325  1206695   673637   320675  1371920  1103608   557583   878358\n",
      "   760239  1054590  1035283  1190386   476903 12270810  1174009  1222464\n",
      "   625201  1267898   770066  8233704  1050718  1225382  1352663   672113\n",
      "   888169   543558  1257815  1275807   263538  1231387  1254538  1313658\n",
      "   806423  1368882  1199219  1234554  1230688  1257366  1176187  1237674\n",
      "   128059  1042252  1204898  1137156  1242364   752904  1296025   160296\n",
      "  1016277   492268]\n",
      "Clump Thickness\n",
      "[ 7.  6.  8.  5. 10.  3.  4.  1.  2.  9.]\n",
      "Uniformity of Cell Size\n",
      "[ 8. 10.  6.  5.  4.  9.  3.  1.  2.  7.]\n",
      "Uniformity of Cell Shape\n",
      "[ 3.  5.  4.  6. 10.  7.  1.  2.  9.  8.]\n",
      "Marginal Adhesion\n",
      "[ 7.  5. 10.  3.  6.  4.  1.  2.  8.  9.]\n",
      "Single Epithelial Cell Size\n",
      "[ 4. 10.  3.  6.  2.  8.  5.  1.  7.  9.]\n",
      "Bare Nuclei\n",
      "[ 5. 10.  1.  8.  2.  3.  6.  9.  7.  4.]\n",
      "Bland Chromatin\n",
      "[ 7.  6.  3.  2.  4.  1.  5. 10.  8.  9.]\n",
      "Normal Nucleoli\n",
      "[ 8. 10.  5.  4.  3.  7.  2.  6.  9.  1.]\n",
      "Mitoses\n",
      "[ 2.  1.  7.  3. 10.  8.  6.  4.  5.]\n",
      "Class\n",
      "[4. 2.]\n"
     ]
    }
   ],
   "source": [
    "for col in list(df_new):\n",
    "    print(col)\n",
    "    print(df_new[col].unique())"
   ]
  },
  {
   "cell_type": "markdown",
   "metadata": {
    "ExecuteTime": {
     "end_time": "2020-02-21T11:12:37.593248Z",
     "start_time": "2020-02-21T11:12:37.587000Z"
    }
   },
   "source": [
    "# convert Class to 0: benigh and 1:malign"
   ]
  },
  {
   "cell_type": "code",
   "execution_count": 32,
   "metadata": {
    "ExecuteTime": {
     "end_time": "2020-02-21T11:00:27.779799Z",
     "start_time": "2020-02-21T11:00:27.754450Z"
    }
   },
   "outputs": [],
   "source": [
    "\n",
    "df_new[\"Class\"] = df_new[\"Class\"].apply(lambda x: 0 if x == 2 else 1)"
   ]
  },
  {
   "cell_type": "code",
   "execution_count": 33,
   "metadata": {
    "ExecuteTime": {
     "end_time": "2020-02-21T11:00:28.570150Z",
     "start_time": "2020-02-21T11:00:28.507003Z"
    }
   },
   "outputs": [
    {
     "data": {
      "text/html": [
       "<div>\n",
       "<style scoped>\n",
       "    .dataframe tbody tr th:only-of-type {\n",
       "        vertical-align: middle;\n",
       "    }\n",
       "\n",
       "    .dataframe tbody tr th {\n",
       "        vertical-align: top;\n",
       "    }\n",
       "\n",
       "    .dataframe thead th {\n",
       "        text-align: right;\n",
       "    }\n",
       "</style>\n",
       "<table border=\"1\" class=\"dataframe\">\n",
       "  <thead>\n",
       "    <tr style=\"text-align: right;\">\n",
       "      <th></th>\n",
       "      <th>Index</th>\n",
       "      <th>ID</th>\n",
       "      <th>Clump Thickness</th>\n",
       "      <th>Uniformity of Cell Size</th>\n",
       "      <th>Uniformity of Cell Shape</th>\n",
       "      <th>Marginal Adhesion</th>\n",
       "      <th>Single Epithelial Cell Size</th>\n",
       "      <th>Bare Nuclei</th>\n",
       "      <th>Bland Chromatin</th>\n",
       "      <th>Normal Nucleoli</th>\n",
       "      <th>Mitoses</th>\n",
       "      <th>Class</th>\n",
       "    </tr>\n",
       "  </thead>\n",
       "  <tbody>\n",
       "    <tr>\n",
       "      <td>count</td>\n",
       "      <td>15760.000000</td>\n",
       "      <td>1.576000e+04</td>\n",
       "      <td>15760.000000</td>\n",
       "      <td>15760.000000</td>\n",
       "      <td>15760.000000</td>\n",
       "      <td>15760.000000</td>\n",
       "      <td>15760.000000</td>\n",
       "      <td>15760.000000</td>\n",
       "      <td>15760.000000</td>\n",
       "      <td>15760.000000</td>\n",
       "      <td>15760.000000</td>\n",
       "      <td>15760.000000</td>\n",
       "    </tr>\n",
       "    <tr>\n",
       "      <td>mean</td>\n",
       "      <td>7926.936358</td>\n",
       "      <td>1.126045e+06</td>\n",
       "      <td>7.587944</td>\n",
       "      <td>6.895622</td>\n",
       "      <td>5.624112</td>\n",
       "      <td>5.040228</td>\n",
       "      <td>4.221383</td>\n",
       "      <td>6.472589</td>\n",
       "      <td>4.614721</td>\n",
       "      <td>4.983693</td>\n",
       "      <td>1.725127</td>\n",
       "      <td>0.971637</td>\n",
       "    </tr>\n",
       "    <tr>\n",
       "      <td>std</td>\n",
       "      <td>4575.337779</td>\n",
       "      <td>9.953466e+05</td>\n",
       "      <td>2.162333</td>\n",
       "      <td>2.465516</td>\n",
       "      <td>2.130003</td>\n",
       "      <td>2.910629</td>\n",
       "      <td>2.097088</td>\n",
       "      <td>3.219532</td>\n",
       "      <td>1.896199</td>\n",
       "      <td>2.818953</td>\n",
       "      <td>1.648834</td>\n",
       "      <td>0.166013</td>\n",
       "    </tr>\n",
       "    <tr>\n",
       "      <td>min</td>\n",
       "      <td>0.000000</td>\n",
       "      <td>6.337500e+04</td>\n",
       "      <td>1.000000</td>\n",
       "      <td>1.000000</td>\n",
       "      <td>1.000000</td>\n",
       "      <td>1.000000</td>\n",
       "      <td>1.000000</td>\n",
       "      <td>1.000000</td>\n",
       "      <td>1.000000</td>\n",
       "      <td>1.000000</td>\n",
       "      <td>1.000000</td>\n",
       "      <td>0.000000</td>\n",
       "    </tr>\n",
       "    <tr>\n",
       "      <td>25%</td>\n",
       "      <td>3965.750000</td>\n",
       "      <td>1.076352e+06</td>\n",
       "      <td>7.000000</td>\n",
       "      <td>5.000000</td>\n",
       "      <td>4.000000</td>\n",
       "      <td>3.000000</td>\n",
       "      <td>3.000000</td>\n",
       "      <td>3.000000</td>\n",
       "      <td>3.000000</td>\n",
       "      <td>3.000000</td>\n",
       "      <td>1.000000</td>\n",
       "      <td>1.000000</td>\n",
       "    </tr>\n",
       "    <tr>\n",
       "      <td>50%</td>\n",
       "      <td>7927.500000</td>\n",
       "      <td>1.111249e+06</td>\n",
       "      <td>8.000000</td>\n",
       "      <td>6.000000</td>\n",
       "      <td>5.000000</td>\n",
       "      <td>4.000000</td>\n",
       "      <td>4.000000</td>\n",
       "      <td>8.000000</td>\n",
       "      <td>4.000000</td>\n",
       "      <td>5.000000</td>\n",
       "      <td>1.000000</td>\n",
       "      <td>1.000000</td>\n",
       "    </tr>\n",
       "    <tr>\n",
       "      <td>75%</td>\n",
       "      <td>11889.250000</td>\n",
       "      <td>1.198641e+06</td>\n",
       "      <td>10.000000</td>\n",
       "      <td>10.000000</td>\n",
       "      <td>7.000000</td>\n",
       "      <td>7.000000</td>\n",
       "      <td>4.000000</td>\n",
       "      <td>10.000000</td>\n",
       "      <td>7.000000</td>\n",
       "      <td>8.000000</td>\n",
       "      <td>2.000000</td>\n",
       "      <td>1.000000</td>\n",
       "    </tr>\n",
       "    <tr>\n",
       "      <td>max</td>\n",
       "      <td>15854.000000</td>\n",
       "      <td>1.345435e+07</td>\n",
       "      <td>10.000000</td>\n",
       "      <td>10.000000</td>\n",
       "      <td>10.000000</td>\n",
       "      <td>10.000000</td>\n",
       "      <td>10.000000</td>\n",
       "      <td>10.000000</td>\n",
       "      <td>10.000000</td>\n",
       "      <td>10.000000</td>\n",
       "      <td>10.000000</td>\n",
       "      <td>1.000000</td>\n",
       "    </tr>\n",
       "  </tbody>\n",
       "</table>\n",
       "</div>"
      ],
      "text/plain": [
       "              Index            ID  Clump Thickness  Uniformity of Cell Size  \\\n",
       "count  15760.000000  1.576000e+04     15760.000000             15760.000000   \n",
       "mean    7926.936358  1.126045e+06         7.587944                 6.895622   \n",
       "std     4575.337779  9.953466e+05         2.162333                 2.465516   \n",
       "min        0.000000  6.337500e+04         1.000000                 1.000000   \n",
       "25%     3965.750000  1.076352e+06         7.000000                 5.000000   \n",
       "50%     7927.500000  1.111249e+06         8.000000                 6.000000   \n",
       "75%    11889.250000  1.198641e+06        10.000000                10.000000   \n",
       "max    15854.000000  1.345435e+07        10.000000                10.000000   \n",
       "\n",
       "       Uniformity of Cell Shape  Marginal Adhesion  \\\n",
       "count              15760.000000       15760.000000   \n",
       "mean                   5.624112           5.040228   \n",
       "std                    2.130003           2.910629   \n",
       "min                    1.000000           1.000000   \n",
       "25%                    4.000000           3.000000   \n",
       "50%                    5.000000           4.000000   \n",
       "75%                    7.000000           7.000000   \n",
       "max                   10.000000          10.000000   \n",
       "\n",
       "       Single Epithelial Cell Size   Bare Nuclei  Bland Chromatin  \\\n",
       "count                 15760.000000  15760.000000     15760.000000   \n",
       "mean                      4.221383      6.472589         4.614721   \n",
       "std                       2.097088      3.219532         1.896199   \n",
       "min                       1.000000      1.000000         1.000000   \n",
       "25%                       3.000000      3.000000         3.000000   \n",
       "50%                       4.000000      8.000000         4.000000   \n",
       "75%                       4.000000     10.000000         7.000000   \n",
       "max                      10.000000     10.000000        10.000000   \n",
       "\n",
       "       Normal Nucleoli       Mitoses         Class  \n",
       "count     15760.000000  15760.000000  15760.000000  \n",
       "mean          4.983693      1.725127      0.971637  \n",
       "std           2.818953      1.648834      0.166013  \n",
       "min           1.000000      1.000000      0.000000  \n",
       "25%           3.000000      1.000000      1.000000  \n",
       "50%           5.000000      1.000000      1.000000  \n",
       "75%           8.000000      2.000000      1.000000  \n",
       "max          10.000000     10.000000      1.000000  "
      ]
     },
     "execution_count": 33,
     "metadata": {},
     "output_type": "execute_result"
    }
   ],
   "source": [
    "df_new.describe()"
   ]
  },
  {
   "cell_type": "code",
   "execution_count": 34,
   "metadata": {
    "ExecuteTime": {
     "end_time": "2020-02-21T11:00:39.131062Z",
     "start_time": "2020-02-21T11:00:39.111900Z"
    },
    "scrolled": true
   },
   "outputs": [
    {
     "name": "stdout",
     "output_type": "stream",
     "text": [
      "Index\n",
      "[    0     1     2 ... 15852 15853 15854]\n",
      "ID\n",
      "[ 1241035  1107684   691628  1226612  1142706   601265   378275  1169049\n",
      "  1111249  1076352  1112209  1110524  1326892  1106829  1198641  1200892\n",
      "  1270479  1071084  1113483  1236043  1072179  1197979 12266120   333093\n",
      "  1181356  1321942 11122090 11690490  1173509   521441  1293439   798429\n",
      " 11986410   608157  1277018  1348851  1238410  1259008  1206314  1132347\n",
      "  1192325  1365075   734111  1059552  1190394  1100524  1187805  1147699\n",
      "   832226   640712   274137   390840  1170419  1177027   603148  1318671\n",
      "  1313982  1255384  1026122  1016634  1224329   809912  1266154   756136\n",
      "  1277792  1196295   508234  1257200  1197440  1289391   814911  1178580\n",
      "  1120559 12410350  1180523  1198128  6012650  1219859  1156272   431495\n",
      "  1103722  1241559  1204242  1190546  1217051  1212232  1240603   877943\n",
      "  1067444   145447   897471  1116998   188336  1075123  1304595  1205138\n",
      "  1328755  1214092  1268952  1170945  1320304  1352848  1227210  1174841\n",
      "  1328331   555977  1017122  1183516   721482  1182404   867392  1216694\n",
      "   827627   486283  1091262  1200847 12008920  1261751  1136142  1311875\n",
      "   855524 11112490  1173347   792744   709287 11427060  1268766  1115282\n",
      "  1033078   826923 10763520  1073960 12124220  1239232 11105240  1145420\n",
      "   690557  1350423  1155546   183913  1287775  1166654 11076840   456282\n",
      "  1299596  1216947  1253917  1334667 13454352  1296572  1228311  1371026\n",
      "  6916280  1181567  1189286  1227244   688033  1049815  1200772 12048980\n",
      "  1239420   529329  1217264  1290203   763235  1320077  1333877   897172\n",
      "   654546   646904   837082   566509  3782750  1238186   493452  1276091\n",
      "  1133136  1230994  1201834   640744  1196263  1041801  1115293   764974\n",
      "   486662   659642  1321931   718641  1126417  1201870   693702  1174057\n",
      "  1147748  1176406  1131294  1321321   869828  1333104   428598   685977\n",
      "   695091  1257608  1269574  1214966  1345452  1295508  1143978  1253505\n",
      "  1323477  1084139  1330439  1173235  1213375   677910  1217952  1286943\n",
      "  1173681   837480  1083817  1236837   704097  1174428  1155967  1193091\n",
      "   636130  1232225  1170420  1295529  1297522  1294562   342245  1115762\n",
      "  1241679  1002025   636437   527363  1135090  1238777  1299924  1223543\n",
      "  1133041  1156017  1368267  1168359  1102573  1147044  1124651   841769\n",
      "  1116132  1330361  1222047  1201936  1105524  1354840  1347943  1165790\n",
      "  1171845  1187457   836433  1287282   560680  1343374  1213383  1119189\n",
      "  1015425  1166630  1167439  1298484  1022257   859164  1158247  1238633\n",
      "  1343068  1108449   749653   822829  1268804  1212251  1306339  1295186\n",
      "   606722  1002945   733823  1221863  1167471  1168736  1081791  1288608\n",
      "   896404   769612  1355260   873549   780555   466906   255644  1196475\n",
      "  1031608  1226012   353098  1206089  1172152  1165926   558538  1140597\n",
      "  1218982  1151734   846832   411453  1228152  1071760  1202253  1257470\n",
      "   352431  1188472  1183240  1218860  1056784  1197527  1218105  1184241\n",
      "  1253955  1183911  1268275  1336798  1240337   877291  1260659  1210963\n",
      "  1211202  1079304  1152331  1080233   859350   810104   434518  1199731\n",
      "  1277268  1168278    95719  1225799  1266124   369565  1344121   695219\n",
      "   488173  1339781  1325159   832567   653777  1211265   831268   797327\n",
      "   654244  1199983  6721130  1219406  1133991  1118039   428903  1184184\n",
      "   385103  1223306  1193210  1223793  1065726  1113061  1041043  1315807\n",
      "   561477   714039  1160476  1018099  1369821  1174131  1301945  1177512\n",
      "  1017023  1306282  1324572  1285722  1197993  1125035  1299161  1303489\n",
      "  1074610  1061990  1050670 11068290   534555  1121732  1315506  1299994\n",
      "   635844  1297327  1043068   666090  1243256  1313325   888523  1365328\n",
      "  1207986  1311033  1334071  1116715  1047630  1280258  1246562  1184586\n",
      "  1223426  1272039  1202125  1117152  1148873  1353092   412300   684955\n",
      "  1311108   314428  1149548   657753  1066979  1238021  1196915  1294413\n",
      "  1302428  1277145  1214556  1218741  1206841  1116116  1238915  1171710\n",
      "  1173216  1180194  1056171  1179818  1318169  1224565   566346  1223967\n",
      "   803531  1257648  1186936  1227081  1293966  1181685  1156948  1222936\n",
      "  1113906  1131411   492561  1223282   785208   303213  1325309   824249\n",
      "  1334015   191250   527337  1265899  1320141   636375  1208301   144888\n",
      "  1277629  1049837   242970  1217717  1108370  1333063  1158405  1175937\n",
      "  1296593  1185609  1114570  1183596  1350319  1239347  1165297  1099510\n",
      "  1106095  1044572   776715  1321264   324427  1173514   846423   785615\n",
      "   324382  1073836  1164066   736150   760001  1321348  1319609  1190485\n",
      "  1345593  1296263  1220330   888820    76389  1171578  1344449   730881\n",
      "    63375  1116192  1066373  1058849  1331405   183936  1324681   474162\n",
      "   743348  1257938  8325670  1212422  1105257  1298416   616240  1157734\n",
      "   814265 12760910 12758070  1121919  1200952  1197270   167528  1148278\n",
      "  1287971  1070935  1333495   733639   667204  1182410  1180831  1219525\n",
      "  1070522  1294261   787451   142932  1113038  1285531  1054593  1239967\n",
      "  1002504  1350568  1036172  1110102   871549  1189266  1231706  1204558\n",
      "  1211594  1096352  1213784   452264  1183983  1171795  1230175  1158157\n",
      "  1043999   706426   830690  1272166  1229929   536708  1205579  1268313\n",
      "  1084584  1193544   666942  1197080  1331412  1203096  1177399  1347749\n",
      "  1258556  1235807  1368273  1110503   807657  1018561  1227481  1048672\n",
      "   805448   850831  1213273  1238948   740492  1176881  1298360  1231853\n",
      "  1185610   535331  1223003  1080185   857774  1334659  1202812  1123061\n",
      "   866325  1206695   673637   320675  1371920  1103608   557583   878358\n",
      "   760239  1054590  1035283  1190386   476903 12270810  1174009  1222464\n",
      "   625201  1267898   770066  8233704  1050718  1225382  1352663   672113\n",
      "   888169   543558  1257815  1275807   263538  1231387  1254538  1313658\n",
      "   806423  1368882  1199219  1234554  1230688  1257366  1176187  1237674\n",
      "   128059  1042252  1204898  1137156  1242364   752904  1296025   160296\n",
      "  1016277   492268]\n",
      "Clump Thickness\n",
      "[ 7.  6.  8.  5. 10.  3.  4.  1.  2.  9.]\n",
      "Uniformity of Cell Size\n",
      "[ 8. 10.  6.  5.  4.  9.  3.  1.  2.  7.]\n",
      "Uniformity of Cell Shape\n",
      "[ 3.  5.  4.  6. 10.  7.  1.  2.  9.  8.]\n",
      "Marginal Adhesion\n",
      "[ 7.  5. 10.  3.  6.  4.  1.  2.  8.  9.]\n",
      "Single Epithelial Cell Size\n",
      "[ 4. 10.  3.  6.  2.  8.  5.  1.  7.  9.]\n",
      "Bare Nuclei\n",
      "[ 5. 10.  1.  8.  2.  3.  6.  9.  7.  4.]\n",
      "Bland Chromatin\n",
      "[ 7.  6.  3.  2.  4.  1.  5. 10.  8.  9.]\n",
      "Normal Nucleoli\n",
      "[ 8. 10.  5.  4.  3.  7.  2.  6.  9.  1.]\n",
      "Mitoses\n",
      "[ 2.  1.  7.  3. 10.  8.  6.  4.  5.]\n",
      "Class\n",
      "[1 0]\n"
     ]
    }
   ],
   "source": [
    "for col in list(df_new):\n",
    "    print(col)\n",
    "    print(df_new[col].unique())"
   ]
  },
  {
   "cell_type": "code",
   "execution_count": 57,
   "metadata": {
    "ExecuteTime": {
     "end_time": "2020-02-21T12:19:54.954905Z",
     "start_time": "2020-02-21T12:19:53.438538Z"
    }
   },
   "outputs": [
    {
     "name": "stderr",
     "output_type": "stream",
     "text": [
      "/home/bithika/local/anaconda3/lib/python3.7/site-packages/ipykernel_launcher.py:3: UserWarning: To output multiple subplots, the figure containing the passed axes is being cleared\n",
      "  This is separate from the ipykernel package so we can avoid doing imports until\n"
     ]
    },
    {
     "data": {
      "image/png": "[encoded data removed]",
      "text/plain": [
       "<Figure size 1080x1440 with 12 Axes>"
      ]
     },
     "metadata": {
      "needs_background": "light"
     },
     "output_type": "display_data"
    }
   ],
   "source": [
    "fig = plt.figure(figsize = (15,20))\n",
    "ax = fig.gca()\n",
    "df_new.hist(ax = ax)\n",
    "plt.tight_layout()\n",
    "plt.show()"
   ]
  },
  {
   "cell_type": "code",
   "execution_count": 56,
   "metadata": {
    "ExecuteTime": {
     "end_time": "2020-02-21T12:18:53.140419Z",
     "start_time": "2020-02-21T12:18:53.111825Z"
    }
   },
   "outputs": [],
   "source": [
    "df.hist?"
   ]
  },
  {
   "cell_type": "markdown",
   "metadata": {
    "ExecuteTime": {
     "end_time": "2020-02-21T11:12:49.248746Z",
     "start_time": "2020-02-21T11:12:49.244716Z"
    }
   },
   "source": [
    "# Unbalanced data: frequency count of column Class"
   ]
  },
  {
   "cell_type": "code",
   "execution_count": 47,
   "metadata": {
    "ExecuteTime": {
     "end_time": "2020-02-21T11:48:37.032919Z",
     "start_time": "2020-02-21T11:48:37.017350Z"
    }
   },
   "outputs": [
    {
     "name": "stdout",
     "output_type": "stream",
     "text": [
      "1    15313\n",
      "0      447\n",
      "Name: Class, dtype: int64\n"
     ]
    }
   ],
   "source": [
    "# frequency count of column Class\n",
    "count = df_new['Class'].value_counts() \n",
    "print(count)"
   ]
  },
  {
   "cell_type": "code",
   "execution_count": 49,
   "metadata": {
    "ExecuteTime": {
     "end_time": "2020-02-21T11:51:31.529283Z",
     "start_time": "2020-02-21T11:51:31.461954Z"
    }
   },
   "outputs": [
    {
     "data": {
      "text/plain": [
       "<matplotlib.axes._subplots.AxesSubplot at 0x7f34dc72e710>"
      ]
     },
     "execution_count": 49,
     "metadata": {},
     "output_type": "execute_result"
    },
    {
     "data": {
      "image/png": "[encoded data removed]",
      "text/plain": [
       "<Figure size 432x288 with 1 Axes>"
      ]
     },
     "metadata": {},
     "output_type": "display_data"
    }
   ],
   "source": [
    "df_new.Class.value_counts().plot(kind='pie')"
   ]
  },
  {
   "cell_type": "markdown",
   "metadata": {},
   "source": [
    "# Save cleaned data "
   ]
  },
  {
   "cell_type": "code",
   "execution_count": 45,
   "metadata": {
    "ExecuteTime": {
     "end_time": "2020-02-21T11:16:11.140696Z",
     "start_time": "2020-02-21T11:16:11.129589Z"
    }
   },
   "outputs": [],
   "source": [
    "df_new.to_pickle(os.path.join(data_dir, 'df_clean'))"
   ]
  }
 ],
 "metadata": {
  "kernelspec": {
   "display_name": "Python 3",
   "language": "python",
   "name": "python3"
  },
  "language_info": {
   "codemirror_mode": {
    "name": "ipython",
    "version": 3
   },
   "file_extension": ".py",
   "mimetype": "text/x-python",
   "name": "python",
   "nbconvert_exporter": "python",
   "pygments_lexer": "ipython3",
   "version": "3.7.4"
  }
 },
 "nbformat": 4,
 "nbformat_minor": 2
}
